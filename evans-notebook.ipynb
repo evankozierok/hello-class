{
 "cells": [
  {
   "cell_type": "markdown",
   "metadata": {},
   "source": [
    "# Hello!\n",
    "Welcome to my notebook. What a nice notebook it is."
   ]
  },
  {
   "cell_type": "code",
   "execution_count": null,
   "metadata": {},
   "outputs": [],
   "source": [
    "import this"
   ]
  },
  {
   "cell_type": "code",
   "execution_count": 8,
   "metadata": {},
   "outputs": [
    {
     "name": "stdout",
     "output_type": "stream",
     "text": [
      "this is example text\n",
      "even more example text\n",
      "example math\n",
      "2+2 is 4\n",
      "-1 that's 3\n",
      "quick maths\n"
     ]
    }
   ],
   "source": [
    "print(\"this is example text\")\n",
    "print(\"even more example text\")\n",
    "print(\"example math\")\n",
    "\n",
    "x = 2 + 2\n",
    "print(\"2+2 is \" + str(x))\n",
    "\n",
    "x = x - 1\n",
    "print(\"-1 that's \" + str(x))\n",
    "print(\"quick maths\")\n"
   ]
  },
  {
   "cell_type": "code",
   "execution_count": null,
   "metadata": {},
   "outputs": [],
   "source": []
  }
 ],
 "metadata": {
  "kernelspec": {
   "display_name": "Python 3",
   "language": "python",
   "name": "python3"
  },
  "language_info": {
   "codemirror_mode": {
    "name": "ipython",
    "version": 3
   },
   "file_extension": ".py",
   "mimetype": "text/x-python",
   "name": "python",
   "nbconvert_exporter": "python",
   "pygments_lexer": "ipython3",
   "version": "3.8.3"
  }
 },
 "nbformat": 4,
 "nbformat_minor": 4
}
